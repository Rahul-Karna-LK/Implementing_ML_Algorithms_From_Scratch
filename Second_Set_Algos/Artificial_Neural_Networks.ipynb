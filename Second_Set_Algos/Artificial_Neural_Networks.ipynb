{
  "nbformat": 4,
  "nbformat_minor": 0,
  "metadata": {
    "colab": {
      "provenance": []
    },
    "kernelspec": {
      "name": "python3",
      "display_name": "Python 3"
    },
    "language_info": {
      "name": "python"
    }
  },
  "cells": [
    {
      "cell_type": "code",
      "execution_count": 18,
      "metadata": {
        "id": "v9XEZbucpGJB"
      },
      "outputs": [],
      "source": [
        "import tensorflow as tf\n",
        "from tensorflow import keras\n",
        "import matplotlib.pyplot as plt\n",
        "%matplotlib inline\n",
        "import numpy as np"
      ]
    },
    {
      "cell_type": "code",
      "source": [
        "(x_train, y_train) , (x_test, y_test) = keras.datasets.mnist.load_data()"
      ],
      "metadata": {
        "id": "-ioncQk9pjyC"
      },
      "execution_count": 19,
      "outputs": []
    },
    {
      "cell_type": "markdown",
      "source": [
        "Normalizing the data and splitting into test train split"
      ],
      "metadata": {
        "id": "RvOEJ-7N0x1c"
      }
    },
    {
      "cell_type": "code",
      "source": [
        "x_train = x_train / 255\n",
        "x_test = x_test / 255"
      ],
      "metadata": {
        "id": "clePJUk_vcfq"
      },
      "execution_count": 20,
      "outputs": []
    },
    {
      "cell_type": "code",
      "source": [
        "x_train_flattened = x_train.reshape(len(x_train), 28*28)\n",
        "x_test_flattened = x_test.reshape(len(x_test), 28*28)"
      ],
      "metadata": {
        "id": "Dw9mca65q2Nn"
      },
      "execution_count": 21,
      "outputs": []
    },
    {
      "cell_type": "markdown",
      "source": [
        "NEURAL NETWORK WITH 0 HIDDEN LAYERS"
      ],
      "metadata": {
        "id": "CRXXsKlIvndD"
      }
    },
    {
      "cell_type": "code",
      "source": [
        "x = np.concatenate((x_train, x_test))\n",
        "y = np.concatenate((y_train, y_test))"
      ],
      "metadata": {
        "id": "483NencQhepy"
      },
      "execution_count": 33,
      "outputs": []
    },
    {
      "cell_type": "code",
      "source": [
        "# Split the data into training and testing sets\n",
        "num_train = int(0.7 * len(x))\n",
        "x_train, y_train = x[:num_train], y[:num_train]\n",
        "x_test, y_test = x[num_train:], y[num_train:]\n",
        "\n",
        "# Reshape the input data to be 2D (samples x features)\n",
        "x_train_flattened = x_train.reshape(-1, 784)\n",
        "x_test_flattened = x_test.reshape(-1, 784)\n"
      ],
      "metadata": {
        "id": "JZFT9sL4hQkd"
      },
      "execution_count": 34,
      "outputs": []
    },
    {
      "cell_type": "code",
      "source": [
        "model = keras.Sequential([\n",
        "    keras.layers.Dense(10, input_shape = (784,),activation = 'softmax')\n",
        "])\n",
        "\n",
        "model.compile(optimizer = 'adam' ,\n",
        "              loss =  'sparse_categorical_crossentropy' ,\n",
        "              metrics = ['accuracy'])\n",
        "\n",
        "model.fit(x_train_flattened, y_train, epochs = 5)"
      ],
      "metadata": {
        "colab": {
          "base_uri": "https://localhost:8080/"
        },
        "id": "CIR1fsSZrxKl",
        "outputId": "e2e47b21-3acf-4fb6-c3b8-d6eeb6eb956a"
      },
      "execution_count": 22,
      "outputs": [
        {
          "output_type": "stream",
          "name": "stdout",
          "text": [
            "Epoch 1/5\n",
            "1875/1875 [==============================] - 4s 2ms/step - loss: 0.4669 - accuracy: 0.8787\n",
            "Epoch 2/5\n",
            "1875/1875 [==============================] - 4s 2ms/step - loss: 0.3039 - accuracy: 0.9148\n",
            "Epoch 3/5\n",
            "1875/1875 [==============================] - 3s 2ms/step - loss: 0.2834 - accuracy: 0.9212\n",
            "Epoch 4/5\n",
            "1875/1875 [==============================] - 3s 2ms/step - loss: 0.2732 - accuracy: 0.9234\n",
            "Epoch 5/5\n",
            "1875/1875 [==============================] - 4s 2ms/step - loss: 0.2670 - accuracy: 0.9253\n"
          ]
        },
        {
          "output_type": "execute_result",
          "data": {
            "text/plain": [
              "<keras.callbacks.History at 0x7f3b02050850>"
            ]
          },
          "metadata": {},
          "execution_count": 22
        }
      ]
    },
    {
      "cell_type": "code",
      "source": [
        "model.evaluate(x_test_flattened, y_test)"
      ],
      "metadata": {
        "colab": {
          "base_uri": "https://localhost:8080/"
        },
        "id": "gXuOOdD1vzYE",
        "outputId": "2cd3cda3-d369-4a2c-d67f-43b07206fc94"
      },
      "execution_count": 23,
      "outputs": [
        {
          "output_type": "stream",
          "name": "stdout",
          "text": [
            "313/313 [==============================] - 1s 2ms/step - loss: 0.2713 - accuracy: 0.9242\n"
          ]
        },
        {
          "output_type": "execute_result",
          "data": {
            "text/plain": [
              "[0.27131322026252747, 0.9241999983787537]"
            ]
          },
          "metadata": {},
          "execution_count": 23
        }
      ]
    },
    {
      "cell_type": "code",
      "source": [
        "y_predicted = model.predict(x_test_flattened)\n",
        "y_predicted_labels = [np.argmax(i) for i in y_predicted]"
      ],
      "metadata": {
        "colab": {
          "base_uri": "https://localhost:8080/"
        },
        "id": "Xu5hA-F7wpgT",
        "outputId": "b01db136-cef9-4a90-c5af-296116e92b5d"
      },
      "execution_count": 35,
      "outputs": [
        {
          "output_type": "stream",
          "name": "stdout",
          "text": [
            "657/657 [==============================] - 1s 1ms/step\n"
          ]
        }
      ]
    },
    {
      "cell_type": "code",
      "source": [
        "# confusion_matrix = tf.math.confusion_matrix(labels = y_test,predictions = y_predicted_labels )\n",
        "# confusion_matrix\n",
        "num_classes = 10\n",
        "confusion_matrix = np.zeros((num_classes, num_classes))\n",
        "for i in range(len(y_test)):\n",
        "    true_label = y_test[i]\n",
        "    predicted_label = y_predicted_labels[i]\n",
        "    confusion_matrix[true_label][predicted_label] += 1\n",
        "\n",
        "print(confusion_matrix)"
      ],
      "metadata": {
        "colab": {
          "base_uri": "https://localhost:8080/"
        },
        "id": "UW9OtGtBwWTO",
        "outputId": "7c095aef-dd16-4d31-9467-8d102fdf13d3"
      },
      "execution_count": 36,
      "outputs": [
        {
          "output_type": "stream",
          "name": "stdout",
          "text": [
            "[[2.047e+03 0.000e+00 1.000e+00 4.000e+00 2.000e+00 5.000e+00 7.000e+00\n",
            "  6.000e+00 6.000e+00 0.000e+00]\n",
            " [0.000e+00 2.259e+03 6.000e+00 7.000e+00 3.000e+00 4.000e+00 4.000e+00\n",
            "  3.000e+00 2.000e+01 1.000e+00]\n",
            " [1.500e+01 2.000e+01 1.897e+03 4.300e+01 2.500e+01 4.000e+00 1.800e+01\n",
            "  2.600e+01 6.700e+01 8.000e+00]\n",
            " [1.100e+01 1.000e+00 3.000e+01 1.993e+03 3.000e+00 5.000e+01 6.000e+00\n",
            "  1.200e+01 3.100e+01 1.800e+01]\n",
            " [5.000e+00 1.100e+01 4.000e+00 2.000e+00 1.948e+03 0.000e+00 1.000e+01\n",
            "  5.000e+00 1.200e+01 5.400e+01]\n",
            " [2.600e+01 5.000e+00 1.300e+01 8.600e+01 1.900e+01 1.654e+03 3.000e+01\n",
            "  1.000e+01 4.700e+01 1.700e+01]\n",
            " [2.100e+01 5.000e+00 9.000e+00 2.000e+00 2.000e+01 1.900e+01 1.939e+03\n",
            "  2.000e+00 4.000e+00 0.000e+00]\n",
            " [5.000e+00 1.200e+01 2.900e+01 1.500e+01 1.600e+01 1.000e+00 0.000e+00\n",
            "  2.062e+03 3.000e+00 7.400e+01]\n",
            " [2.100e+01 2.800e+01 1.500e+01 6.100e+01 1.300e+01 4.700e+01 1.000e+01\n",
            "  1.900e+01 1.834e+03 2.600e+01]\n",
            " [1.500e+01 1.200e+01 3.000e+00 2.400e+01 6.300e+01 1.200e+01 1.000e+00\n",
            "  4.500e+01 8.000e+00 1.884e+03]]\n"
          ]
        }
      ]
    },
    {
      "cell_type": "markdown",
      "source": [
        "#1 BASIC NEURAL NETWORK WITH MULTIPLE 2 HIDDEN LAYERS AND SIGMOID FUNCTION"
      ],
      "metadata": {
        "id": "Bx2Ti-PBzU8W"
      }
    },
    {
      "cell_type": "code",
      "source": [
        "# Split the data into training and testing sets\n",
        "num_train = int(0.67 * len(x))\n",
        "x_train, y_train = x[:num_train], y[:num_train]\n",
        "x_test, y_test = x[num_train:], y[num_train:]\n",
        "\n",
        "# Reshape the input data to be 2D (samples x features)\n",
        "x_train_flattened = x_train.reshape(-1, 784)\n",
        "x_test_flattened = x_test.reshape(-1, 784)\n"
      ],
      "metadata": {
        "id": "FTV82d6ShqCg"
      },
      "execution_count": 37,
      "outputs": []
    },
    {
      "cell_type": "code",
      "source": [
        "model = keras.Sequential([\n",
        "    keras.layers.Dense(100, input_shape = (784,),activation = 'sigmoid') ,\n",
        "    keras.layers.Dense(100, input_shape = (784,),activation = 'sigmoid') ,\n",
        "    keras.layers.Dense(10 ,activation = 'softmax')\n",
        "\n",
        "])\n",
        "\n",
        "model.compile(optimizer = 'adam' ,\n",
        "              loss =  'sparse_categorical_crossentropy' ,\n",
        "              metrics = ['accuracy'])\n",
        "\n",
        "model.fit(x_train_flattened, y_train, epochs = 5)"
      ],
      "metadata": {
        "colab": {
          "base_uri": "https://localhost:8080/"
        },
        "id": "QKKOc5SdzUkV",
        "outputId": "ea993ff8-9bf0-4358-b514-f849f1a0f7c1"
      },
      "execution_count": 40,
      "outputs": [
        {
          "output_type": "stream",
          "name": "stdout",
          "text": [
            "Epoch 1/5\n",
            "1466/1466 [==============================] - 5s 3ms/step - loss: 0.5389 - accuracy: 0.8599\n",
            "Epoch 2/5\n",
            "1466/1466 [==============================] - 6s 4ms/step - loss: 0.2012 - accuracy: 0.9401\n",
            "Epoch 3/5\n",
            "1466/1466 [==============================] - 6s 4ms/step - loss: 0.1435 - accuracy: 0.9572\n",
            "Epoch 4/5\n",
            "1466/1466 [==============================] - 4s 3ms/step - loss: 0.1089 - accuracy: 0.9680\n",
            "Epoch 5/5\n",
            "1466/1466 [==============================] - 5s 4ms/step - loss: 0.0853 - accuracy: 0.9751\n"
          ]
        },
        {
          "output_type": "execute_result",
          "data": {
            "text/plain": [
              "<keras.callbacks.History at 0x7f3b01d652b0>"
            ]
          },
          "metadata": {},
          "execution_count": 40
        }
      ]
    },
    {
      "cell_type": "code",
      "source": [
        "model.evaluate(x_test_flattened, y_test)"
      ],
      "metadata": {
        "colab": {
          "base_uri": "https://localhost:8080/"
        },
        "id": "4uhC-0mp0S65",
        "outputId": "2a90b3fc-725d-411f-af08-d05bacd51d16"
      },
      "execution_count": 11,
      "outputs": [
        {
          "output_type": "stream",
          "name": "stdout",
          "text": [
            "313/313 [==============================] - 1s 3ms/step - loss: 0.0940 - accuracy: 0.9716\n"
          ]
        },
        {
          "output_type": "execute_result",
          "data": {
            "text/plain": [
              "[0.09396137297153473, 0.9715999960899353]"
            ]
          },
          "metadata": {},
          "execution_count": 11
        }
      ]
    },
    {
      "cell_type": "code",
      "source": [
        "y_predicted1 = model.predict(x_test_flattened)\n",
        "y_predicted_labels1 = [np.argmax(i) for i in y_predicted1]"
      ],
      "metadata": {
        "colab": {
          "base_uri": "https://localhost:8080/"
        },
        "id": "BdtjVf2yYbsl",
        "outputId": "4d7e62e4-7f54-4f35-e381-d75e5ad0aa81"
      },
      "execution_count": 38,
      "outputs": [
        {
          "output_type": "stream",
          "name": "stdout",
          "text": [
            "722/722 [==============================] - 1s 1ms/step\n"
          ]
        }
      ]
    },
    {
      "cell_type": "code",
      "source": [
        "# confusion_matrix = tf.math.confusion_matrix(labels = y_test,predictions = y_predicted_labels1 )\n",
        "# confusion_matrix\n",
        "num_classes = 10\n",
        "confusion_matrix1 = np.zeros((num_classes, num_classes))\n",
        "for i in range(len(y_test)):\n",
        "    true_label1 = y_test[i]\n",
        "    predicted_label1 = y_predicted_labels1[i]\n",
        "    confusion_matrix1[true_label1][predicted_label1] += 1\n",
        "\n",
        "print(confusion_matrix1)\n"
      ],
      "metadata": {
        "colab": {
          "base_uri": "https://localhost:8080/"
        },
        "id": "FZjEu-pR0bD4",
        "outputId": "1c9cd019-8f04-44c1-d249-f4a998916ded"
      },
      "execution_count": 39,
      "outputs": [
        {
          "output_type": "stream",
          "name": "stdout",
          "text": [
            "[[2.255e+03 0.000e+00 1.000e+00 5.000e+00 4.000e+00 5.000e+00 7.000e+00\n",
            "  6.000e+00 7.000e+00 0.000e+00]\n",
            " [0.000e+00 2.491e+03 6.000e+00 7.000e+00 3.000e+00 5.000e+00 4.000e+00\n",
            "  3.000e+00 2.000e+01 3.000e+00]\n",
            " [2.200e+01 2.300e+01 2.102e+03 4.600e+01 2.600e+01 4.000e+00 2.100e+01\n",
            "  2.900e+01 7.200e+01 8.000e+00]\n",
            " [1.100e+01 1.000e+00 3.300e+01 2.179e+03 3.000e+00 5.500e+01 9.000e+00\n",
            "  1.300e+01 3.500e+01 2.000e+01]\n",
            " [5.000e+00 1.100e+01 4.000e+00 2.000e+00 2.155e+03 0.000e+00 1.300e+01\n",
            "  5.000e+00 1.300e+01 6.100e+01]\n",
            " [2.800e+01 5.000e+00 1.400e+01 9.600e+01 2.100e+01 1.815e+03 3.300e+01\n",
            "  1.300e+01 4.900e+01 2.100e+01]\n",
            " [2.500e+01 5.000e+00 9.000e+00 3.000e+00 2.200e+01 2.100e+01 2.137e+03\n",
            "  2.000e+00 5.000e+00 0.000e+00]\n",
            " [6.000e+00 1.300e+01 3.100e+01 1.600e+01 1.700e+01 1.000e+00 0.000e+00\n",
            "  2.260e+03 3.000e+00 7.900e+01]\n",
            " [2.600e+01 3.200e+01 1.800e+01 7.100e+01 1.300e+01 5.000e+01 1.100e+01\n",
            "  2.000e+01 2.019e+03 2.800e+01]\n",
            " [1.500e+01 1.300e+01 3.000e+00 2.800e+01 6.500e+01 1.300e+01 1.000e+00\n",
            "  5.200e+01 9.000e+00 2.050e+03]]\n"
          ]
        }
      ]
    },
    {
      "cell_type": "markdown",
      "source": [
        "#2 BASIC NEURAL NETWORK WITH MULTIPLE 2 HIDDEN LAYERS AND SIGMOID FUNCTION"
      ],
      "metadata": {
        "id": "9Zxjmwkj2HUc"
      }
    },
    {
      "cell_type": "code",
      "source": [
        "x = np.concatenate((x_train, x_test))\n",
        "y = np.concatenate((y_train, y_test))"
      ],
      "metadata": {
        "id": "OMY0eIeMjpBA"
      },
      "execution_count": 55,
      "outputs": []
    },
    {
      "cell_type": "code",
      "source": [
        "# Split the data into training and testing sets\n",
        "num_train = int(0.69 * len(x))\n",
        "x_train, y_train = x[:num_train], y[:num_train]\n",
        "x_test, y_test = x[num_train:], y[num_train:]\n",
        "\n",
        "# Reshape the input data to be 2D (samples x features)\n",
        "x_train_flattened = x_train.reshape(-1, 784)\n",
        "x_test_flattened = x_test.reshape(-1, 784)\n"
      ],
      "metadata": {
        "id": "hqBd7rcljshE"
      },
      "execution_count": 56,
      "outputs": []
    },
    {
      "cell_type": "code",
      "source": [
        "model = keras.Sequential([\n",
        "    keras.layers.Dense(150, input_shape = (784,),activation = 'sigmoid') ,\n",
        "    keras.layers.Dense(150, input_shape = (784,),activation = 'sigmoid') ,\n",
        "    keras.layers.Dense(10 ,activation = 'softmax')\n",
        "\n",
        "])\n",
        "\n",
        "model.compile(optimizer = 'adam' ,\n",
        "              loss =  'sparse_categorical_crossentropy' ,\n",
        "              metrics = ['accuracy'])\n",
        "\n",
        "model.fit(x_train_flattened, y_train, epochs = 5)"
      ],
      "metadata": {
        "colab": {
          "base_uri": "https://localhost:8080/"
        },
        "id": "Dg1KweqT2OrV",
        "outputId": "5c1bee28-968a-42ab-bdae-04257913f6a4"
      },
      "execution_count": 14,
      "outputs": [
        {
          "output_type": "stream",
          "name": "stdout",
          "text": [
            "Epoch 1/5\n",
            "1875/1875 [==============================] - 13s 6ms/step - loss: 0.4090 - accuracy: 0.8878\n",
            "Epoch 2/5\n",
            "1875/1875 [==============================] - 10s 5ms/step - loss: 0.1679 - accuracy: 0.9509\n",
            "Epoch 3/5\n",
            "1875/1875 [==============================] - 9s 5ms/step - loss: 0.1147 - accuracy: 0.9661\n",
            "Epoch 4/5\n",
            "1875/1875 [==============================] - 8s 4ms/step - loss: 0.0840 - accuracy: 0.9744\n",
            "Epoch 5/5\n",
            "1875/1875 [==============================] - 10s 5ms/step - loss: 0.0642 - accuracy: 0.9803\n"
          ]
        },
        {
          "output_type": "execute_result",
          "data": {
            "text/plain": [
              "<keras.callbacks.History at 0x7fa5d71c09a0>"
            ]
          },
          "metadata": {},
          "execution_count": 14
        }
      ]
    },
    {
      "cell_type": "code",
      "source": [
        "model.evaluate(x_test_flattened, y_test)"
      ],
      "metadata": {
        "colab": {
          "base_uri": "https://localhost:8080/"
        },
        "id": "2VZFEBwg2UAT",
        "outputId": "7f6a2184-9dc7-4b67-e0af-b1ff71d08eed"
      },
      "execution_count": 15,
      "outputs": [
        {
          "output_type": "stream",
          "name": "stdout",
          "text": [
            "313/313 [==============================] - 1s 3ms/step - loss: 0.0874 - accuracy: 0.9721\n"
          ]
        },
        {
          "output_type": "execute_result",
          "data": {
            "text/plain": [
              "[0.08736637234687805, 0.972100019454956]"
            ]
          },
          "metadata": {},
          "execution_count": 15
        }
      ]
    },
    {
      "cell_type": "code",
      "source": [
        "y_predicted2 = model.predict(x_test_flattened)\n",
        "y_predicted_labels2 = [np.argmax(i) for i in y_predicted1]"
      ],
      "metadata": {
        "colab": {
          "base_uri": "https://localhost:8080/"
        },
        "id": "me_pyULZiTKJ",
        "outputId": "7e363eb4-138a-401f-9403-76689da0d56e"
      },
      "execution_count": 51,
      "outputs": [
        {
          "output_type": "stream",
          "name": "stdout",
          "text": [
            "700/700 [==============================] - 2s 2ms/step\n"
          ]
        }
      ]
    },
    {
      "cell_type": "code",
      "source": [
        "# confusion_matrix2 = tf.math.confusion_matrix(labels = y_test,predictions = y_predicted_labels2 )\n",
        "# confusion_matrix2\n",
        "num_classes = 10\n",
        "confusion_matrix2 = np.zeros((num_classes, num_classes))\n",
        "for i in range(len(y_test)):\n",
        "    true_label2 = y_test[i]\n",
        "    predicted_label2 = y_predicted_labels2[i]\n",
        "    confusion_matrix[true_label2][predicted_label2] += 1\n",
        "\n",
        "print(confusion_matrix2)\n"
      ],
      "metadata": {
        "id": "0P7r0Rcq2W5a"
      },
      "execution_count": null,
      "outputs": []
    },
    {
      "cell_type": "markdown",
      "source": [
        "#3 BASIC NEURAL NETWORK WITH MULTIPLE 2 HIDDEN LAYERS AND TANH FUNCTION"
      ],
      "metadata": {
        "id": "wdS8aSqV247d"
      }
    },
    {
      "cell_type": "code",
      "source": [
        "model = keras.Sequential([\n",
        "    keras.layers.Dense(100, input_shape = (784,),activation = 'tanh') ,\n",
        "    keras.layers.Dense(100, input_shape = (784,),activation = 'tanh') ,\n",
        "    keras.layers.Dense(10 ,activation = 'softmax')\n",
        "\n",
        "])\n",
        "\n",
        "model.compile(optimizer = 'adam' ,\n",
        "              loss =  'sparse_categorical_crossentropy' ,\n",
        "              metrics = ['accuracy'])\n",
        "\n",
        "model.fit(x_train_flattened, y_train, epochs = 5)"
      ],
      "metadata": {
        "colab": {
          "base_uri": "https://localhost:8080/"
        },
        "id": "bbXETfRt29nr",
        "outputId": "71d8d486-5051-47c8-ebe0-a4b90a44fd79"
      },
      "execution_count": 18,
      "outputs": [
        {
          "output_type": "stream",
          "name": "stdout",
          "text": [
            "Epoch 1/5\n",
            "1875/1875 [==============================] - 7s 3ms/step - loss: 0.2626 - accuracy: 0.9224\n",
            "Epoch 2/5\n",
            "1875/1875 [==============================] - 7s 4ms/step - loss: 0.1195 - accuracy: 0.9636\n",
            "Epoch 3/5\n",
            "1875/1875 [==============================] - 6s 3ms/step - loss: 0.0807 - accuracy: 0.9746\n",
            "Epoch 4/5\n",
            "1875/1875 [==============================] - 8s 4ms/step - loss: 0.0619 - accuracy: 0.9802\n",
            "Epoch 5/5\n",
            "1875/1875 [==============================] - 6s 3ms/step - loss: 0.0465 - accuracy: 0.9850\n"
          ]
        },
        {
          "output_type": "execute_result",
          "data": {
            "text/plain": [
              "<keras.callbacks.History at 0x7fa5d6f15fa0>"
            ]
          },
          "metadata": {},
          "execution_count": 18
        }
      ]
    },
    {
      "cell_type": "code",
      "source": [
        "model.evaluate(x_test_flattened, y_test)"
      ],
      "metadata": {
        "colab": {
          "base_uri": "https://localhost:8080/"
        },
        "id": "t3-D7y4n3J8L",
        "outputId": "57828302-3828-477a-b93b-efa8cefd0ac4"
      },
      "execution_count": 19,
      "outputs": [
        {
          "output_type": "stream",
          "name": "stdout",
          "text": [
            "313/313 [==============================] - 1s 3ms/step - loss: 0.0927 - accuracy: 0.9714\n"
          ]
        },
        {
          "output_type": "execute_result",
          "data": {
            "text/plain": [
              "[0.0927216038107872, 0.9714000225067139]"
            ]
          },
          "metadata": {},
          "execution_count": 19
        }
      ]
    },
    {
      "cell_type": "code",
      "source": [
        "confusion_matrix = tf.math.confusion_matrix(labels = y_test,predictions = y_predicted_labels )\n",
        "confusion_matrix"
      ],
      "metadata": {
        "colab": {
          "base_uri": "https://localhost:8080/"
        },
        "id": "s8h1J6Ix3MhP",
        "outputId": "1da2ca6f-ab62-4462-f902-a67f5fec32e4"
      },
      "execution_count": 20,
      "outputs": [
        {
          "output_type": "execute_result",
          "data": {
            "text/plain": [
              "<tf.Tensor: shape=(10, 10), dtype=int32, numpy=\n",
              "array([[ 965,    0,    1,    2,    0,    4,    5,    2,    1,    0],\n",
              "       [   0, 1116,    3,    2,    0,    1,    4,    2,    7,    0],\n",
              "       [   9,    7,  936,   13,    8,    1,   12,    9,   33,    4],\n",
              "       [   5,    0,   27,  915,    0,   22,    3,    9,   21,    8],\n",
              "       [   2,    1,    6,    1,  919,    0,    9,    4,    7,   33],\n",
              "       [  10,    3,    5,   36,   12,  755,   17,    7,   38,    9],\n",
              "       [  14,    3,    8,    1,    7,    8,  914,    2,    1,    0],\n",
              "       [   1,    5,   27,    5,   10,    0,    0,  944,    2,   34],\n",
              "       [   8,   10,    9,   20,    9,   22,   10,   12,  866,    8],\n",
              "       [  11,    7,    1,    9,   29,    6,    0,   22,    8,  916]],\n",
              "      dtype=int32)>"
            ]
          },
          "metadata": {},
          "execution_count": 20
        }
      ]
    },
    {
      "cell_type": "markdown",
      "source": [
        "#4 BASIC NEURAL NETWORK WITH MULTIPLE 2 HIDDEN LAYERS AND TANH FUNCTION"
      ],
      "metadata": {
        "id": "jNP7hsUM3WoP"
      }
    },
    {
      "cell_type": "code",
      "source": [
        "model = keras.Sequential([\n",
        "    keras.layers.Dense(150, input_shape = (784,),activation = 'tanh') ,\n",
        "    keras.layers.Dense(150, input_shape = (784,),activation = 'tanh') ,\n",
        "    keras.layers.Dense(10 ,activation = 'softmax')\n",
        "\n",
        "])\n",
        "\n",
        "model.compile(optimizer = 'adam' ,\n",
        "              loss =  'sparse_categorical_crossentropy' ,\n",
        "              metrics = ['accuracy'])\n",
        "\n",
        "model.fit(x_train_flattened, y_train, epochs = 5)"
      ],
      "metadata": {
        "colab": {
          "base_uri": "https://localhost:8080/"
        },
        "id": "swyRSpFP3Y4d",
        "outputId": "98de0c19-cabd-4e3c-956a-c61d11aca919"
      },
      "execution_count": 22,
      "outputs": [
        {
          "output_type": "stream",
          "name": "stdout",
          "text": [
            "Epoch 1/5\n",
            "1875/1875 [==============================] - 9s 5ms/step - loss: 0.2545 - accuracy: 0.9243\n",
            "Epoch 2/5\n",
            "1875/1875 [==============================] - 9s 5ms/step - loss: 0.1151 - accuracy: 0.9650\n",
            "Epoch 3/5\n",
            "1875/1875 [==============================] - 9s 5ms/step - loss: 0.0786 - accuracy: 0.9749\n",
            "Epoch 4/5\n",
            "1875/1875 [==============================] - 9s 5ms/step - loss: 0.0569 - accuracy: 0.9823\n",
            "Epoch 5/5\n",
            "1875/1875 [==============================] - 8s 4ms/step - loss: 0.0426 - accuracy: 0.9869\n"
          ]
        },
        {
          "output_type": "execute_result",
          "data": {
            "text/plain": [
              "<keras.callbacks.History at 0x7fa5bc065a30>"
            ]
          },
          "metadata": {},
          "execution_count": 22
        }
      ]
    },
    {
      "cell_type": "code",
      "source": [
        "model.evaluate(x_test_flattened, y_test)"
      ],
      "metadata": {
        "colab": {
          "base_uri": "https://localhost:8080/"
        },
        "id": "OkfiPbyc3inS",
        "outputId": "f20c431e-55e5-46fd-e6b1-fd2aab4d311d"
      },
      "execution_count": 23,
      "outputs": [
        {
          "output_type": "stream",
          "name": "stdout",
          "text": [
            "313/313 [==============================] - 1s 2ms/step - loss: 0.0817 - accuracy: 0.9727\n"
          ]
        },
        {
          "output_type": "execute_result",
          "data": {
            "text/plain": [
              "[0.08167914301156998, 0.9726999998092651]"
            ]
          },
          "metadata": {},
          "execution_count": 23
        }
      ]
    },
    {
      "cell_type": "code",
      "source": [
        "confusion_matrix = tf.math.confusion_matrix(labels = y_test,predictions = y_predicted_labels )\n",
        "confusion_matrix"
      ],
      "metadata": {
        "colab": {
          "base_uri": "https://localhost:8080/"
        },
        "id": "3XIhqMFN3kLY",
        "outputId": "b7e66287-6bfd-4609-e5d9-65d3761f9f2c"
      },
      "execution_count": 24,
      "outputs": [
        {
          "output_type": "execute_result",
          "data": {
            "text/plain": [
              "<tf.Tensor: shape=(10, 10), dtype=int32, numpy=\n",
              "array([[ 965,    0,    1,    2,    0,    4,    5,    2,    1,    0],\n",
              "       [   0, 1116,    3,    2,    0,    1,    4,    2,    7,    0],\n",
              "       [   9,    7,  936,   13,    8,    1,   12,    9,   33,    4],\n",
              "       [   5,    0,   27,  915,    0,   22,    3,    9,   21,    8],\n",
              "       [   2,    1,    6,    1,  919,    0,    9,    4,    7,   33],\n",
              "       [  10,    3,    5,   36,   12,  755,   17,    7,   38,    9],\n",
              "       [  14,    3,    8,    1,    7,    8,  914,    2,    1,    0],\n",
              "       [   1,    5,   27,    5,   10,    0,    0,  944,    2,   34],\n",
              "       [   8,   10,    9,   20,    9,   22,   10,   12,  866,    8],\n",
              "       [  11,    7,    1,    9,   29,    6,    0,   22,    8,  916]],\n",
              "      dtype=int32)>"
            ]
          },
          "metadata": {},
          "execution_count": 24
        }
      ]
    },
    {
      "cell_type": "markdown",
      "source": [
        "#5 BASIC NEURAL NETWORK WITH MULTIPLE 2 HIDDEN LAYERS AND RELU FUNCTION"
      ],
      "metadata": {
        "id": "Ni3HJSYv3ltU"
      }
    },
    {
      "cell_type": "code",
      "source": [
        "model = keras.Sequential([\n",
        "    keras.layers.Dense(100, input_shape = (784,),activation = 'relu') ,\n",
        "    keras.layers.Dense(100, input_shape = (784,),activation = 'relu') ,\n",
        "    keras.layers.Dense(10 ,activation = 'softmax')\n",
        "\n",
        "])\n",
        "\n",
        "model.compile(optimizer = 'adam' ,\n",
        "              loss =  'sparse_categorical_crossentropy' ,\n",
        "              metrics = ['accuracy'])\n",
        "\n",
        "model.fit(x_train_flattened, y_train, epochs = 5)"
      ],
      "metadata": {
        "colab": {
          "base_uri": "https://localhost:8080/"
        },
        "id": "8AqOq0JT3sQE",
        "outputId": "0b6728e2-f617-465a-9093-a20fc05d18b6"
      },
      "execution_count": 25,
      "outputs": [
        {
          "output_type": "stream",
          "name": "stdout",
          "text": [
            "Epoch 1/5\n",
            "1875/1875 [==============================] - 8s 4ms/step - loss: 0.2436 - accuracy: 0.9280\n",
            "Epoch 2/5\n",
            "1875/1875 [==============================] - 9s 5ms/step - loss: 0.1040 - accuracy: 0.9684\n",
            "Epoch 3/5\n",
            "1875/1875 [==============================] - 7s 4ms/step - loss: 0.0754 - accuracy: 0.9764\n",
            "Epoch 4/5\n",
            "1875/1875 [==============================] - 7s 4ms/step - loss: 0.0562 - accuracy: 0.9826\n",
            "Epoch 5/5\n",
            "1875/1875 [==============================] - 7s 4ms/step - loss: 0.0444 - accuracy: 0.9857\n"
          ]
        },
        {
          "output_type": "execute_result",
          "data": {
            "text/plain": [
              "<keras.callbacks.History at 0x7fa5a4e78fa0>"
            ]
          },
          "metadata": {},
          "execution_count": 25
        }
      ]
    },
    {
      "cell_type": "code",
      "source": [
        "model.evaluate(x_test_flattened, y_test)"
      ],
      "metadata": {
        "colab": {
          "base_uri": "https://localhost:8080/"
        },
        "id": "Hc3khm-z4H-7",
        "outputId": "fc98302f-7b79-419c-9c46-5a103252ed28"
      },
      "execution_count": 26,
      "outputs": [
        {
          "output_type": "stream",
          "name": "stderr",
          "text": [
            "Exception ignored in: <function _xla_gc_callback at 0x7fa5f373d1f0>\n",
            "Traceback (most recent call last):\n",
            "  File \"/usr/local/lib/python3.9/dist-packages/jax/_src/lib/__init__.py\", line 97, in _xla_gc_callback\n",
            "    def _xla_gc_callback(*args):\n",
            "KeyboardInterrupt: \n"
          ]
        },
        {
          "output_type": "stream",
          "name": "stdout",
          "text": [
            "313/313 [==============================] - 61s 2ms/step - loss: 0.0815 - accuracy: 0.9751\n"
          ]
        },
        {
          "output_type": "execute_result",
          "data": {
            "text/plain": [
              "[0.08149614930152893, 0.9750999808311462]"
            ]
          },
          "metadata": {},
          "execution_count": 26
        }
      ]
    },
    {
      "cell_type": "code",
      "source": [
        "confusion_matrix = tf.math.confusion_matrix(labels = y_test,predictions = y_predicted_labels )\n",
        "confusion_matrix"
      ],
      "metadata": {
        "colab": {
          "base_uri": "https://localhost:8080/"
        },
        "id": "3W1QRlRx4JqW",
        "outputId": "c8d4b952-8a4a-4d93-e87b-10bc094956cf"
      },
      "execution_count": 27,
      "outputs": [
        {
          "output_type": "execute_result",
          "data": {
            "text/plain": [
              "<tf.Tensor: shape=(10, 10), dtype=int32, numpy=\n",
              "array([[ 965,    0,    1,    2,    0,    4,    5,    2,    1,    0],\n",
              "       [   0, 1116,    3,    2,    0,    1,    4,    2,    7,    0],\n",
              "       [   9,    7,  936,   13,    8,    1,   12,    9,   33,    4],\n",
              "       [   5,    0,   27,  915,    0,   22,    3,    9,   21,    8],\n",
              "       [   2,    1,    6,    1,  919,    0,    9,    4,    7,   33],\n",
              "       [  10,    3,    5,   36,   12,  755,   17,    7,   38,    9],\n",
              "       [  14,    3,    8,    1,    7,    8,  914,    2,    1,    0],\n",
              "       [   1,    5,   27,    5,   10,    0,    0,  944,    2,   34],\n",
              "       [   8,   10,    9,   20,    9,   22,   10,   12,  866,    8],\n",
              "       [  11,    7,    1,    9,   29,    6,    0,   22,    8,  916]],\n",
              "      dtype=int32)>"
            ]
          },
          "metadata": {},
          "execution_count": 27
        }
      ]
    },
    {
      "cell_type": "markdown",
      "source": [
        "#6 BASIC NEURAL NETWORK WITH MULTIPLE 2 HIDDEN LAYERS AND RELU FUNCTION"
      ],
      "metadata": {
        "id": "3khIdOpRUIKF"
      }
    },
    {
      "cell_type": "code",
      "source": [
        "model = keras.Sequential([\n",
        "    keras.layers.Dense(150, input_shape = (784,),activation = 'relu') ,\n",
        "    keras.layers.Dense(150, input_shape = (784,),activation = 'relu') ,\n",
        "    keras.layers.Dense(10 ,activation = 'softmax')\n",
        "\n",
        "])\n",
        "\n",
        "model.compile(optimizer = 'adam' ,\n",
        "              loss =  'sparse_categorical_crossentropy' ,\n",
        "              metrics = ['accuracy'])\n",
        "\n",
        "model.fit(x_train_flattened, y_train, epochs = 5)"
      ],
      "metadata": {
        "colab": {
          "base_uri": "https://localhost:8080/"
        },
        "id": "R0FnRDaOULO4",
        "outputId": "b29293ef-9c6a-42d6-a409-86213850d2f2"
      },
      "execution_count": 28,
      "outputs": [
        {
          "output_type": "stream",
          "name": "stdout",
          "text": [
            "Epoch 1/5\n",
            "1875/1875 [==============================] - 12s 6ms/step - loss: 0.2198 - accuracy: 0.9347\n",
            "Epoch 2/5\n",
            "1875/1875 [==============================] - 11s 6ms/step - loss: 0.0920 - accuracy: 0.9718\n",
            "Epoch 3/5\n",
            "1875/1875 [==============================] - 10s 5ms/step - loss: 0.0652 - accuracy: 0.9800\n",
            "Epoch 4/5\n",
            "1875/1875 [==============================] - 10s 5ms/step - loss: 0.0478 - accuracy: 0.9843\n",
            "Epoch 5/5\n",
            "1875/1875 [==============================] - 9s 5ms/step - loss: 0.0396 - accuracy: 0.9873\n"
          ]
        },
        {
          "output_type": "execute_result",
          "data": {
            "text/plain": [
              "<keras.callbacks.History at 0x7fa5d7091c40>"
            ]
          },
          "metadata": {},
          "execution_count": 28
        }
      ]
    },
    {
      "cell_type": "code",
      "source": [
        "model.evaluate(x_test_flattened, y_test)"
      ],
      "metadata": {
        "colab": {
          "base_uri": "https://localhost:8080/"
        },
        "id": "aXPR8VyxURv2",
        "outputId": "373ed456-e241-441e-ebe2-6f146e4cc42f"
      },
      "execution_count": 29,
      "outputs": [
        {
          "output_type": "stream",
          "name": "stdout",
          "text": [
            "313/313 [==============================] - 1s 3ms/step - loss: 0.0879 - accuracy: 0.9726\n"
          ]
        },
        {
          "output_type": "execute_result",
          "data": {
            "text/plain": [
              "[0.0878523513674736, 0.972599983215332]"
            ]
          },
          "metadata": {},
          "execution_count": 29
        }
      ]
    },
    {
      "cell_type": "code",
      "source": [
        "confusion_matrix = tf.math.confusion_matrix(labels = y_test,predictions = y_predicted_labels )\n",
        "confusion_matrix"
      ],
      "metadata": {
        "colab": {
          "base_uri": "https://localhost:8080/"
        },
        "id": "rRdJJEG0USMD",
        "outputId": "d5f7a1d3-3f92-4c7b-d46b-92992c5bad79"
      },
      "execution_count": 30,
      "outputs": [
        {
          "output_type": "execute_result",
          "data": {
            "text/plain": [
              "<tf.Tensor: shape=(10, 10), dtype=int32, numpy=\n",
              "array([[ 965,    0,    1,    2,    0,    4,    5,    2,    1,    0],\n",
              "       [   0, 1116,    3,    2,    0,    1,    4,    2,    7,    0],\n",
              "       [   9,    7,  936,   13,    8,    1,   12,    9,   33,    4],\n",
              "       [   5,    0,   27,  915,    0,   22,    3,    9,   21,    8],\n",
              "       [   2,    1,    6,    1,  919,    0,    9,    4,    7,   33],\n",
              "       [  10,    3,    5,   36,   12,  755,   17,    7,   38,    9],\n",
              "       [  14,    3,    8,    1,    7,    8,  914,    2,    1,    0],\n",
              "       [   1,    5,   27,    5,   10,    0,    0,  944,    2,   34],\n",
              "       [   8,   10,    9,   20,    9,   22,   10,   12,  866,    8],\n",
              "       [  11,    7,    1,    9,   29,    6,    0,   22,    8,  916]],\n",
              "      dtype=int32)>"
            ]
          },
          "metadata": {},
          "execution_count": 30
        }
      ]
    },
    {
      "cell_type": "markdown",
      "source": [
        "#7 BASIC NEURAL NETWORK WITH MULTIPLE 3 HIDDEN LAYERS AND SIGMOID FUNCTION"
      ],
      "metadata": {
        "id": "_c4YHMHaUyaU"
      }
    },
    {
      "cell_type": "code",
      "source": [
        "model = keras.Sequential([\n",
        "    keras.layers.Dense(100, input_shape = (784,),activation = 'sigmoid') ,\n",
        "    keras.layers.Dense(100, input_shape = (784,),activation = 'sigmoid') ,\n",
        "    keras.layers.Dense(100, input_shape = (784,),activation = 'sigmoid') ,\n",
        "    keras.layers.Dense(10 ,activation = 'softmax')\n",
        "\n",
        "])\n",
        "\n",
        "model.compile(optimizer = 'adam' ,\n",
        "              loss =  'sparse_categorical_crossentropy' ,\n",
        "              metrics = ['accuracy'])\n",
        "\n",
        "model.fit(x_train_flattened, y_train, epochs = 5)"
      ],
      "metadata": {
        "colab": {
          "base_uri": "https://localhost:8080/"
        },
        "id": "OWtbt2bgU7pS",
        "outputId": "7c597ff8-4a08-4de0-9719-bd8a5fda30f2"
      },
      "execution_count": 32,
      "outputs": [
        {
          "output_type": "stream",
          "name": "stdout",
          "text": [
            "Epoch 1/5\n",
            "1875/1875 [==============================] - 10s 5ms/step - loss: 0.5194 - accuracy: 0.8519\n",
            "Epoch 2/5\n",
            "1875/1875 [==============================] - 7s 4ms/step - loss: 0.1769 - accuracy: 0.9475\n",
            "Epoch 3/5\n",
            "1875/1875 [==============================] - 7s 4ms/step - loss: 0.1207 - accuracy: 0.9645\n",
            "Epoch 4/5\n",
            "1875/1875 [==============================] - 8s 4ms/step - loss: 0.0913 - accuracy: 0.9731\n",
            "Epoch 5/5\n",
            "1875/1875 [==============================] - 7s 4ms/step - loss: 0.0725 - accuracy: 0.9788\n"
          ]
        },
        {
          "output_type": "execute_result",
          "data": {
            "text/plain": [
              "<keras.callbacks.History at 0x7fa5aafcb0a0>"
            ]
          },
          "metadata": {},
          "execution_count": 32
        }
      ]
    },
    {
      "cell_type": "code",
      "source": [
        "model.evaluate(x_test_flattened, y_test)"
      ],
      "metadata": {
        "colab": {
          "base_uri": "https://localhost:8080/"
        },
        "id": "-JG0P0aAVEnc",
        "outputId": "54ec97b2-b907-4046-ec06-4219714b1727"
      },
      "execution_count": 35,
      "outputs": [
        {
          "output_type": "stream",
          "name": "stdout",
          "text": [
            "313/313 [==============================] - 1s 2ms/step - loss: 0.0940 - accuracy: 0.9723\n"
          ]
        },
        {
          "output_type": "execute_result",
          "data": {
            "text/plain": [
              "[0.09402132779359818, 0.9722999930381775]"
            ]
          },
          "metadata": {},
          "execution_count": 35
        }
      ]
    },
    {
      "cell_type": "code",
      "source": [
        "confusion_matrix = tf.math.confusion_matrix(labels = y_test,predictions = y_predicted_labels )\n",
        "confusion_matrix"
      ],
      "metadata": {
        "colab": {
          "base_uri": "https://localhost:8080/"
        },
        "id": "6nuhOEt9VFGN",
        "outputId": "c09d81a4-6848-4344-bdef-e91f387ee917"
      },
      "execution_count": 36,
      "outputs": [
        {
          "output_type": "execute_result",
          "data": {
            "text/plain": [
              "<tf.Tensor: shape=(10, 10), dtype=int32, numpy=\n",
              "array([[ 965,    0,    1,    2,    0,    4,    5,    2,    1,    0],\n",
              "       [   0, 1116,    3,    2,    0,    1,    4,    2,    7,    0],\n",
              "       [   9,    7,  936,   13,    8,    1,   12,    9,   33,    4],\n",
              "       [   5,    0,   27,  915,    0,   22,    3,    9,   21,    8],\n",
              "       [   2,    1,    6,    1,  919,    0,    9,    4,    7,   33],\n",
              "       [  10,    3,    5,   36,   12,  755,   17,    7,   38,    9],\n",
              "       [  14,    3,    8,    1,    7,    8,  914,    2,    1,    0],\n",
              "       [   1,    5,   27,    5,   10,    0,    0,  944,    2,   34],\n",
              "       [   8,   10,    9,   20,    9,   22,   10,   12,  866,    8],\n",
              "       [  11,    7,    1,    9,   29,    6,    0,   22,    8,  916]],\n",
              "      dtype=int32)>"
            ]
          },
          "metadata": {},
          "execution_count": 36
        }
      ]
    },
    {
      "cell_type": "markdown",
      "source": [
        "#8 BASIC NEURAL NETWORK WITH MULTIPLE 3 HIDDEN LAYERS AND SIGMOID FUNCTION"
      ],
      "metadata": {
        "id": "cyrk38FfVMRI"
      }
    },
    {
      "cell_type": "code",
      "source": [
        "model = keras.Sequential([\n",
        "    keras.layers.Dense(150, input_shape = (784,),activation = 'sigmoid') ,\n",
        "    keras.layers.Dense(150, input_shape = (784,),activation = 'sigmoid') ,\n",
        "    keras.layers.Dense(150, input_shape = (784,),activation = 'sigmoid') ,\n",
        "    keras.layers.Dense(10 ,activation = 'softmax')\n",
        "\n",
        "])\n",
        "\n",
        "model.compile(optimizer = 'adam' ,\n",
        "              loss =  'sparse_categorical_crossentropy' ,\n",
        "              metrics = ['accuracy'])\n",
        "\n",
        "model.fit(x_train_flattened, y_train, epochs = 5)"
      ],
      "metadata": {
        "colab": {
          "base_uri": "https://localhost:8080/"
        },
        "id": "BhwbBTHcVNfm",
        "outputId": "85454791-ae96-4f67-a3cc-628348b2d3e3"
      },
      "execution_count": 31,
      "outputs": [
        {
          "output_type": "stream",
          "name": "stdout",
          "text": [
            "Epoch 1/5\n",
            "1875/1875 [==============================] - 11s 5ms/step - loss: 0.4511 - accuracy: 0.8657\n",
            "Epoch 2/5\n",
            "1875/1875 [==============================] - 11s 6ms/step - loss: 0.1566 - accuracy: 0.9522\n",
            "Epoch 3/5\n",
            "1875/1875 [==============================] - 10s 5ms/step - loss: 0.1088 - accuracy: 0.9670\n",
            "Epoch 4/5\n",
            "1875/1875 [==============================] - 9s 5ms/step - loss: 0.0804 - accuracy: 0.9755\n",
            "Epoch 5/5\n",
            "1875/1875 [==============================] - 10s 6ms/step - loss: 0.0633 - accuracy: 0.9803\n"
          ]
        },
        {
          "output_type": "execute_result",
          "data": {
            "text/plain": [
              "<keras.callbacks.History at 0x7fa5d71c03d0>"
            ]
          },
          "metadata": {},
          "execution_count": 31
        }
      ]
    },
    {
      "cell_type": "code",
      "source": [
        "model.evaluate(x_test_flattened, y_test)"
      ],
      "metadata": {
        "colab": {
          "base_uri": "https://localhost:8080/"
        },
        "id": "5K1oCgPTVRZW",
        "outputId": "53da2c9c-1a88-44d5-dd9a-0d9a04dd5dda"
      },
      "execution_count": 33,
      "outputs": [
        {
          "output_type": "stream",
          "name": "stdout",
          "text": [
            "313/313 [==============================] - 1s 3ms/step - loss: 0.0940 - accuracy: 0.9723\n"
          ]
        },
        {
          "output_type": "execute_result",
          "data": {
            "text/plain": [
              "[0.09402132779359818, 0.9722999930381775]"
            ]
          },
          "metadata": {},
          "execution_count": 33
        }
      ]
    },
    {
      "cell_type": "code",
      "source": [
        "confusion_matrix = tf.math.confusion_matrix(labels = y_test,predictions = y_predicted_labels )\n",
        "confusion_matrix"
      ],
      "metadata": {
        "colab": {
          "base_uri": "https://localhost:8080/"
        },
        "id": "06ujL_2YVS7U",
        "outputId": "0c3b89d1-3144-4873-a550-9bc59d05f60e"
      },
      "execution_count": 34,
      "outputs": [
        {
          "output_type": "execute_result",
          "data": {
            "text/plain": [
              "<tf.Tensor: shape=(10, 10), dtype=int32, numpy=\n",
              "array([[ 965,    0,    1,    2,    0,    4,    5,    2,    1,    0],\n",
              "       [   0, 1116,    3,    2,    0,    1,    4,    2,    7,    0],\n",
              "       [   9,    7,  936,   13,    8,    1,   12,    9,   33,    4],\n",
              "       [   5,    0,   27,  915,    0,   22,    3,    9,   21,    8],\n",
              "       [   2,    1,    6,    1,  919,    0,    9,    4,    7,   33],\n",
              "       [  10,    3,    5,   36,   12,  755,   17,    7,   38,    9],\n",
              "       [  14,    3,    8,    1,    7,    8,  914,    2,    1,    0],\n",
              "       [   1,    5,   27,    5,   10,    0,    0,  944,    2,   34],\n",
              "       [   8,   10,    9,   20,    9,   22,   10,   12,  866,    8],\n",
              "       [  11,    7,    1,    9,   29,    6,    0,   22,    8,  916]],\n",
              "      dtype=int32)>"
            ]
          },
          "metadata": {},
          "execution_count": 34
        }
      ]
    },
    {
      "cell_type": "markdown",
      "source": [
        "#9 BASIC NEURAL NETWORK WITH MULTIPLE 3 HIDDEN LAYERS AND TANH FUNCTION\n",
        "\n",
        "\n"
      ],
      "metadata": {
        "id": "6-v4Pd1GV-qV"
      }
    },
    {
      "cell_type": "code",
      "source": [
        "model = keras.Sequential([\n",
        "    keras.layers.Dense(100, input_shape = (784,),activation = 'tanh') ,\n",
        "    keras.layers.Dense(100, input_shape = (784,),activation = 'tanh') ,\n",
        "    keras.layers.Dense(100, input_shape = (784,),activation = 'tanh') ,\n",
        "    keras.layers.Dense(10 ,activation = 'softmax')\n",
        "\n",
        "])\n",
        "\n",
        "model.compile(optimizer = 'adam' ,\n",
        "              loss =  'sparse_categorical_crossentropy' ,\n",
        "              metrics = ['accuracy'])\n",
        "\n",
        "model.fit(x_train_flattened, y_train, epochs = 5)"
      ],
      "metadata": {
        "colab": {
          "base_uri": "https://localhost:8080/"
        },
        "id": "XQ1pe7vCWE1G",
        "outputId": "c42f76bb-f527-4d1f-df9d-9b782a318192"
      },
      "execution_count": 38,
      "outputs": [
        {
          "output_type": "stream",
          "name": "stdout",
          "text": [
            "Epoch 1/5\n",
            "1875/1875 [==============================] - 8s 4ms/step - loss: 0.2547 - accuracy: 0.9246\n",
            "Epoch 2/5\n",
            "1875/1875 [==============================] - 8s 4ms/step - loss: 0.1187 - accuracy: 0.9642\n",
            "Epoch 3/5\n",
            "1875/1875 [==============================] - 7s 4ms/step - loss: 0.0847 - accuracy: 0.9736\n",
            "Epoch 4/5\n",
            "1875/1875 [==============================] - 11s 6ms/step - loss: 0.0647 - accuracy: 0.9796\n",
            "Epoch 5/5\n",
            "1875/1875 [==============================] - 10s 5ms/step - loss: 0.0514 - accuracy: 0.9833\n"
          ]
        },
        {
          "output_type": "execute_result",
          "data": {
            "text/plain": [
              "<keras.callbacks.History at 0x7fa5ab47bc10>"
            ]
          },
          "metadata": {},
          "execution_count": 38
        }
      ]
    },
    {
      "cell_type": "code",
      "source": [
        "model.evaluate(x_test_flattened, y_test)"
      ],
      "metadata": {
        "colab": {
          "base_uri": "https://localhost:8080/"
        },
        "id": "vQFAKG7PWNp_",
        "outputId": "47136092-a6ad-45c7-aac4-1bb2f8a3783b"
      },
      "execution_count": 39,
      "outputs": [
        {
          "output_type": "stream",
          "name": "stdout",
          "text": [
            "313/313 [==============================] - 1s 2ms/step - loss: 0.0921 - accuracy: 0.9726\n"
          ]
        },
        {
          "output_type": "execute_result",
          "data": {
            "text/plain": [
              "[0.09210652112960815, 0.972599983215332]"
            ]
          },
          "metadata": {},
          "execution_count": 39
        }
      ]
    },
    {
      "cell_type": "code",
      "source": [
        "confusion_matrix = tf.math.confusion_matrix(labels = y_test,predictions = y_predicted_labels )\n",
        "confusion_matrix"
      ],
      "metadata": {
        "colab": {
          "base_uri": "https://localhost:8080/"
        },
        "id": "UwKJXK0OWN-S",
        "outputId": "4064c1c8-c22a-425b-ca3e-4a44233d3157"
      },
      "execution_count": 40,
      "outputs": [
        {
          "output_type": "execute_result",
          "data": {
            "text/plain": [
              "<tf.Tensor: shape=(10, 10), dtype=int32, numpy=\n",
              "array([[ 965,    0,    1,    2,    0,    4,    5,    2,    1,    0],\n",
              "       [   0, 1116,    3,    2,    0,    1,    4,    2,    7,    0],\n",
              "       [   9,    7,  936,   13,    8,    1,   12,    9,   33,    4],\n",
              "       [   5,    0,   27,  915,    0,   22,    3,    9,   21,    8],\n",
              "       [   2,    1,    6,    1,  919,    0,    9,    4,    7,   33],\n",
              "       [  10,    3,    5,   36,   12,  755,   17,    7,   38,    9],\n",
              "       [  14,    3,    8,    1,    7,    8,  914,    2,    1,    0],\n",
              "       [   1,    5,   27,    5,   10,    0,    0,  944,    2,   34],\n",
              "       [   8,   10,    9,   20,    9,   22,   10,   12,  866,    8],\n",
              "       [  11,    7,    1,    9,   29,    6,    0,   22,    8,  916]],\n",
              "      dtype=int32)>"
            ]
          },
          "metadata": {},
          "execution_count": 40
        }
      ]
    },
    {
      "cell_type": "markdown",
      "source": [
        "#10 BASIC NEURAL NETWORK WITH MULTIPLE 3 HIDDEN LAYERS AND TANH FUNCTION\n",
        "\n",
        "\n"
      ],
      "metadata": {
        "id": "jHHq3Jc0WRZQ"
      }
    },
    {
      "cell_type": "code",
      "source": [
        "model = keras.Sequential([\n",
        "    keras.layers.Dense(150, input_shape = (784,),activation = 'tanh') ,\n",
        "    keras.layers.Dense(150, input_shape = (784,),activation = 'tanh') ,\n",
        "    keras.layers.Dense(150, input_shape = (784,),activation = 'tanh') ,\n",
        "    keras.layers.Dense(10 ,activation = 'softmax')\n",
        "\n",
        "])\n",
        "\n",
        "model.compile(optimizer = 'adam' ,\n",
        "              loss =  'sparse_categorical_crossentropy' ,\n",
        "              metrics = ['accuracy'])\n",
        "\n",
        "model.fit(x_train_flattened, y_train, epochs = 5)"
      ],
      "metadata": {
        "colab": {
          "base_uri": "https://localhost:8080/"
        },
        "id": "7ldRaFRwWWl8",
        "outputId": "77aeb278-4cf5-45cd-bd16-4241c4bfc204"
      },
      "execution_count": 41,
      "outputs": [
        {
          "output_type": "stream",
          "name": "stdout",
          "text": [
            "Epoch 1/5\n",
            "1875/1875 [==============================] - 13s 6ms/step - loss: 0.2471 - accuracy: 0.9246\n",
            "Epoch 2/5\n",
            "1875/1875 [==============================] - 10s 5ms/step - loss: 0.1184 - accuracy: 0.9639\n",
            "Epoch 3/5\n",
            "1875/1875 [==============================] - 9s 5ms/step - loss: 0.0799 - accuracy: 0.9748\n",
            "Epoch 4/5\n",
            "1875/1875 [==============================] - 10s 5ms/step - loss: 0.0600 - accuracy: 0.9812\n",
            "Epoch 5/5\n",
            "1875/1875 [==============================] - 10s 5ms/step - loss: 0.0462 - accuracy: 0.9852\n"
          ]
        },
        {
          "output_type": "execute_result",
          "data": {
            "text/plain": [
              "<keras.callbacks.History at 0x7fa5ab28daf0>"
            ]
          },
          "metadata": {},
          "execution_count": 41
        }
      ]
    },
    {
      "cell_type": "code",
      "source": [
        "model.evaluate(x_test_flattened, y_test)"
      ],
      "metadata": {
        "colab": {
          "base_uri": "https://localhost:8080/"
        },
        "id": "alq0S8uGWbRj",
        "outputId": "de9c5b83-f263-4523-a1a1-67d24d11e059"
      },
      "execution_count": 42,
      "outputs": [
        {
          "output_type": "stream",
          "name": "stdout",
          "text": [
            "313/313 [==============================] - 1s 2ms/step - loss: 0.0879 - accuracy: 0.9750\n"
          ]
        },
        {
          "output_type": "execute_result",
          "data": {
            "text/plain": [
              "[0.08794111013412476, 0.9750000238418579]"
            ]
          },
          "metadata": {},
          "execution_count": 42
        }
      ]
    },
    {
      "cell_type": "code",
      "source": [
        "confusion_matrix = tf.math.confusion_matrix(labels = y_test,predictions = y_predicted_labels )\n",
        "confusion_matrix"
      ],
      "metadata": {
        "colab": {
          "base_uri": "https://localhost:8080/"
        },
        "id": "w_nAhlEKWdAR",
        "outputId": "5dea8b67-0cdb-4053-eefb-46900fe856c1"
      },
      "execution_count": 43,
      "outputs": [
        {
          "output_type": "execute_result",
          "data": {
            "text/plain": [
              "<tf.Tensor: shape=(10, 10), dtype=int32, numpy=\n",
              "array([[ 965,    0,    1,    2,    0,    4,    5,    2,    1,    0],\n",
              "       [   0, 1116,    3,    2,    0,    1,    4,    2,    7,    0],\n",
              "       [   9,    7,  936,   13,    8,    1,   12,    9,   33,    4],\n",
              "       [   5,    0,   27,  915,    0,   22,    3,    9,   21,    8],\n",
              "       [   2,    1,    6,    1,  919,    0,    9,    4,    7,   33],\n",
              "       [  10,    3,    5,   36,   12,  755,   17,    7,   38,    9],\n",
              "       [  14,    3,    8,    1,    7,    8,  914,    2,    1,    0],\n",
              "       [   1,    5,   27,    5,   10,    0,    0,  944,    2,   34],\n",
              "       [   8,   10,    9,   20,    9,   22,   10,   12,  866,    8],\n",
              "       [  11,    7,    1,    9,   29,    6,    0,   22,    8,  916]],\n",
              "      dtype=int32)>"
            ]
          },
          "metadata": {},
          "execution_count": 43
        }
      ]
    },
    {
      "cell_type": "markdown",
      "source": [
        "#11 BASIC NEURAL NETWORK WITH MULTIPLE 3 HIDDEN LAYERS AND RELU FUNCTION\n",
        "\n",
        "\n"
      ],
      "metadata": {
        "id": "oc7HHDGDWiEB"
      }
    },
    {
      "cell_type": "code",
      "source": [
        "model = keras.Sequential([\n",
        "    keras.layers.Dense(100, input_shape = (784,),activation = 'relu') ,\n",
        "    keras.layers.Dense(100, input_shape = (784,),activation = 'relu') ,\n",
        "    keras.layers.Dense(100, input_shape = (784,),activation = 'relu') ,\n",
        "\n",
        "    keras.layers.Dense(10 ,activation = 'softmax')\n",
        "\n",
        "])\n",
        "\n",
        "model.compile(optimizer = 'adam' ,\n",
        "              loss =  'sparse_categorical_crossentropy' ,\n",
        "              metrics = ['accuracy'])\n",
        "\n",
        "model.fit(x_train_flattened, y_train, epochs = 5)"
      ],
      "metadata": {
        "colab": {
          "base_uri": "https://localhost:8080/"
        },
        "id": "F3Ip6E-PWm5n",
        "outputId": "88eea289-8b24-4e4e-cd3a-53eb1540f845"
      },
      "execution_count": 44,
      "outputs": [
        {
          "output_type": "stream",
          "name": "stdout",
          "text": [
            "Epoch 1/5\n",
            "1875/1875 [==============================] - 8s 4ms/step - loss: 0.2422 - accuracy: 0.9286\n",
            "Epoch 2/5\n",
            "1875/1875 [==============================] - 6s 3ms/step - loss: 0.1065 - accuracy: 0.9675\n",
            "Epoch 3/5\n",
            "1875/1875 [==============================] - 8s 4ms/step - loss: 0.0778 - accuracy: 0.9758\n",
            "Epoch 4/5\n",
            "1875/1875 [==============================] - 7s 3ms/step - loss: 0.0614 - accuracy: 0.9799\n",
            "Epoch 5/5\n",
            "1875/1875 [==============================] - 8s 4ms/step - loss: 0.0481 - accuracy: 0.9844\n"
          ]
        },
        {
          "output_type": "execute_result",
          "data": {
            "text/plain": [
              "<keras.callbacks.History at 0x7fa5ab0d61f0>"
            ]
          },
          "metadata": {},
          "execution_count": 44
        }
      ]
    },
    {
      "cell_type": "code",
      "source": [
        "model.evaluate(x_test_flattened, y_test)"
      ],
      "metadata": {
        "colab": {
          "base_uri": "https://localhost:8080/"
        },
        "id": "3MAID5UFWwbX",
        "outputId": "4133e190-da2b-4e23-a2df-0cdefadf4cc5"
      },
      "execution_count": 45,
      "outputs": [
        {
          "output_type": "stream",
          "name": "stdout",
          "text": [
            "313/313 [==============================] - 1s 2ms/step - loss: 0.1019 - accuracy: 0.9714\n"
          ]
        },
        {
          "output_type": "execute_result",
          "data": {
            "text/plain": [
              "[0.1019347608089447, 0.9714000225067139]"
            ]
          },
          "metadata": {},
          "execution_count": 45
        }
      ]
    },
    {
      "cell_type": "code",
      "source": [
        "confusion_matrix = tf.math.confusion_matrix(labels = y_test,predictions = y_predicted_labels )\n",
        "confusion_matrix"
      ],
      "metadata": {
        "colab": {
          "base_uri": "https://localhost:8080/"
        },
        "id": "xmIrcJgdWwu7",
        "outputId": "017f7731-1662-461c-81e1-002a1be9d1ea"
      },
      "execution_count": 46,
      "outputs": [
        {
          "output_type": "execute_result",
          "data": {
            "text/plain": [
              "<tf.Tensor: shape=(10, 10), dtype=int32, numpy=\n",
              "array([[ 965,    0,    1,    2,    0,    4,    5,    2,    1,    0],\n",
              "       [   0, 1116,    3,    2,    0,    1,    4,    2,    7,    0],\n",
              "       [   9,    7,  936,   13,    8,    1,   12,    9,   33,    4],\n",
              "       [   5,    0,   27,  915,    0,   22,    3,    9,   21,    8],\n",
              "       [   2,    1,    6,    1,  919,    0,    9,    4,    7,   33],\n",
              "       [  10,    3,    5,   36,   12,  755,   17,    7,   38,    9],\n",
              "       [  14,    3,    8,    1,    7,    8,  914,    2,    1,    0],\n",
              "       [   1,    5,   27,    5,   10,    0,    0,  944,    2,   34],\n",
              "       [   8,   10,    9,   20,    9,   22,   10,   12,  866,    8],\n",
              "       [  11,    7,    1,    9,   29,    6,    0,   22,    8,  916]],\n",
              "      dtype=int32)>"
            ]
          },
          "metadata": {},
          "execution_count": 46
        }
      ]
    },
    {
      "cell_type": "markdown",
      "source": [
        "#12 BASIC NEURAL NETWORK WITH MULTIPLE 3 HIDDEN LAYERS AND RELU FUNCTION\n",
        "\n",
        "\n"
      ],
      "metadata": {
        "id": "qqwanNvSW3NG"
      }
    },
    {
      "cell_type": "code",
      "source": [
        "model = keras.Sequential([\n",
        "    keras.layers.Dense(150, input_shape = (784,),activation = 'relu') ,\n",
        "    keras.layers.Dense(150, input_shape = (784,),activation = 'relu') ,\n",
        "    keras.layers.Dense(150, input_shape = (784,),activation = 'relu') ,\n",
        "\n",
        "    keras.layers.Dense(10 ,activation = 'softmax')\n",
        "\n",
        "])\n",
        "\n",
        "model.compile(optimizer = 'adam' ,\n",
        "              loss =  'sparse_categorical_crossentropy' ,\n",
        "              metrics = ['accuracy'])\n",
        "\n",
        "model.fit(x_train_flattened, y_train, epochs = 5)"
      ],
      "metadata": {
        "colab": {
          "base_uri": "https://localhost:8080/"
        },
        "id": "R7xtC4DVW3md",
        "outputId": "14eeeabc-4dd8-4294-a9ba-2dd850122427"
      },
      "execution_count": 47,
      "outputs": [
        {
          "output_type": "stream",
          "name": "stdout",
          "text": [
            "Epoch 1/5\n",
            "1875/1875 [==============================] - 11s 6ms/step - loss: 0.2252 - accuracy: 0.9323\n",
            "Epoch 2/5\n",
            "1875/1875 [==============================] - 10s 5ms/step - loss: 0.0987 - accuracy: 0.9696\n",
            "Epoch 3/5\n",
            "1875/1875 [==============================] - 9s 5ms/step - loss: 0.0704 - accuracy: 0.9772\n",
            "Epoch 4/5\n",
            "1875/1875 [==============================] - 10s 5ms/step - loss: 0.0558 - accuracy: 0.9820\n",
            "Epoch 5/5\n",
            "1875/1875 [==============================] - 10s 6ms/step - loss: 0.0456 - accuracy: 0.9859\n"
          ]
        },
        {
          "output_type": "execute_result",
          "data": {
            "text/plain": [
              "<keras.callbacks.History at 0x7fa5a9f0eca0>"
            ]
          },
          "metadata": {},
          "execution_count": 47
        }
      ]
    },
    {
      "cell_type": "code",
      "source": [
        "model.evaluate(x_test_flattened, y_test)"
      ],
      "metadata": {
        "colab": {
          "base_uri": "https://localhost:8080/"
        },
        "id": "ZP71cz6FW-IF",
        "outputId": "6078db6d-ce78-403b-c4ce-22865f53bc7f"
      },
      "execution_count": 48,
      "outputs": [
        {
          "output_type": "stream",
          "name": "stdout",
          "text": [
            "313/313 [==============================] - 1s 2ms/step - loss: 0.0816 - accuracy: 0.9768\n"
          ]
        },
        {
          "output_type": "execute_result",
          "data": {
            "text/plain": [
              "[0.08157890290021896, 0.9768000245094299]"
            ]
          },
          "metadata": {},
          "execution_count": 48
        }
      ]
    },
    {
      "cell_type": "code",
      "source": [
        "confusion_matrix = tf.math.confusion_matrix(labels = y_test,predictions = y_predicted_labels )\n",
        "confusion_matrix"
      ],
      "metadata": {
        "colab": {
          "base_uri": "https://localhost:8080/"
        },
        "id": "Pyh4UCcBXA8W",
        "outputId": "444d08f5-faa6-4836-958b-2efd5f6dea5d"
      },
      "execution_count": 49,
      "outputs": [
        {
          "output_type": "execute_result",
          "data": {
            "text/plain": [
              "<tf.Tensor: shape=(10, 10), dtype=int32, numpy=\n",
              "array([[ 965,    0,    1,    2,    0,    4,    5,    2,    1,    0],\n",
              "       [   0, 1116,    3,    2,    0,    1,    4,    2,    7,    0],\n",
              "       [   9,    7,  936,   13,    8,    1,   12,    9,   33,    4],\n",
              "       [   5,    0,   27,  915,    0,   22,    3,    9,   21,    8],\n",
              "       [   2,    1,    6,    1,  919,    0,    9,    4,    7,   33],\n",
              "       [  10,    3,    5,   36,   12,  755,   17,    7,   38,    9],\n",
              "       [  14,    3,    8,    1,    7,    8,  914,    2,    1,    0],\n",
              "       [   1,    5,   27,    5,   10,    0,    0,  944,    2,   34],\n",
              "       [   8,   10,    9,   20,    9,   22,   10,   12,  866,    8],\n",
              "       [  11,    7,    1,    9,   29,    6,    0,   22,    8,  916]],\n",
              "      dtype=int32)>"
            ]
          },
          "metadata": {},
          "execution_count": 49
        }
      ]
    }
  ]
}